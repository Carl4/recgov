{
 "cells": [
  {
   "cell_type": "code",
   "execution_count": 1,
   "metadata": {},
   "outputs": [],
   "source": [
    "import sys\n",
    "if \"..\" not in sys.path:\n",
    "    sys.path.append(\"..\")\n",
    "   \n",
    "from recgov.campsites import get_campsites\n"
   ]
  },
  {
   "cell_type": "code",
   "execution_count": 2,
   "metadata": {},
   "outputs": [],
   "source": [
    "# Get the campsites for Littcarr campground.  This returns a CampsiteSet object.\n",
    "sites = get_campsites(232463)"
   ]
  },
  {
   "source": [
    "# CampsiteSet Filtering Examples\n",
    "\n",
    "First, let's look at filtering only the sites that can support Trailers of verious lengths"
   ],
   "cell_type": "markdown",
   "metadata": {}
  },
  {
   "cell_type": "code",
   "execution_count": 3,
   "metadata": {},
   "outputs": [
    {
     "output_type": "stream",
     "name": "stdout",
     "text": [
      "The total number of sites is 253\n  There are 66 sites that support a 20 foot long trailer.\n  There are 56 sites that support a 25 foot long trailer.\n  There are 37 sites that support a 30 foot long trailer.\n  There are 17 sites that support a 35 foot long trailer.\n  There are 0 sites that support a 40 foot long trailer.\n  There are 0 sites that support a 50 foot long trailer.\n"
     ]
    }
   ],
   "source": [
    "print(f\"The total number of sites is {len(sites)}\")\n",
    "for d in (20, 25, 30, 35, 40, 50):\n",
    "    print(f\"  There are {len(sites.filter_by_equipment('Trailer', d))} sites that support a {d} foot long trailer.\")"
   ]
  },
  {
   "source": [
    "# Chaining\n",
    "Since the `filter_by_equipment`, `filter_by_campsite_type`, and `exclude_by_campsite_type` commands return another `CampsiteSet` object, they can be chained together and all the `CampsiteSet` properties and methods can be used on the result.  This is more interesting on larger campgrounds."
   ],
   "cell_type": "markdown",
   "metadata": {}
  },
  {
   "cell_type": "code",
   "execution_count": 8,
   "metadata": {},
   "outputs": [
    {
     "output_type": "stream",
     "name": "stdout",
     "text": [
      "All campsite types:\n  STANDARD NONELECTRIC, MANAGEMENT, WALK TO, TENT ONLY NONELECTRIC, RV NONELECTRIC\nCampsite types for 25 foot trailers:\n  STANDARD NONELECTRIC, MANAGEMENT, RV NONELECTRIC\nSite #2275 (A129 in A Loop): https://www.recreation.gov/camping/campsites/2275\nSite #2284 (B189 in B Loop): https://www.recreation.gov/camping/campsites/2284\nSite #3025 (EK-Non Reservable in E Loop): https://www.recreation.gov/camping/campsites/3025\nSite #2223 (A135 in A Loop): https://www.recreation.gov/camping/campsites/2223\nSite #2142 (A081 in A Loop): https://www.recreation.gov/camping/campsites/2142\nSite #2141 (A082 in A Loop): https://www.recreation.gov/camping/campsites/2141\nSite #2170 (A022 in A Loop): https://www.recreation.gov/camping/campsites/2170\nSite #3023 (EC-Non Reservable in E Loop): https://www.recreation.gov/camping/campsites/3023\nSite #1614 (A069-Host in A Loop): https://www.recreation.gov/camping/campsites/1614\nSite #3026 (EH in E Loop): https://www.recreation.gov/camping/campsites/3026\nSite #3027 (EA-HOST in E Loop): https://www.recreation.gov/camping/campsites/3027\nSite #3002 (EF-Non Reservable in E Loop): https://www.recreation.gov/camping/campsites/3002\nSite #3024 (EE in E Loop): https://www.recreation.gov/camping/campsites/3024\nSite #3028 (EG-Non Reservable in E Loop): https://www.recreation.gov/camping/campsites/3028\nSite #2209 (A120 in A Loop): https://www.recreation.gov/camping/campsites/2209\nSite #3022 (EB in E Loop): https://www.recreation.gov/camping/campsites/3022\n"
     ]
    }
   ],
   "source": [
    "print(\"All campsite types:\\n \", \", \".join(sites.unique_campsite_types))\n",
    "print(\"Campsite types for 25 foot trailers:\\n \", \", \".join(sites.filter_by_equipment('Trailer', 25).unique_campsite_types))\n",
    "# Not sure what a MANAGEMENT campsite is.  Here's examples.\n",
    "for site in sites.filter_by_campsite_type(\"MANAGEMENT\").values():\n",
    "    print(f\"Site #{site.id} ({site.name} in {site.loop}): {site.site_url}\")"
   ]
  },
  {
   "cell_type": "code",
   "execution_count": 10,
   "metadata": {},
   "outputs": [
    {
     "output_type": "execute_result",
     "data": {
      "text/plain": [
       "{'CampsiteID': '3022',\n",
       " 'FacilityID': '232463',\n",
       " 'CampsiteName': 'EB',\n",
       " 'CampsiteType': 'MANAGEMENT',\n",
       " 'TypeOfUse': 'Overnight',\n",
       " 'Loop': 'E Loop',\n",
       " 'CampsiteAccessible': False,\n",
       " 'CampsiteLongitude': -105.598776542089,\n",
       " 'CampsiteLatitude': 40.361857559422,\n",
       " 'CreatedDate': '2014-05-02',\n",
       " 'LastUpdatedDate': '2020-12-19',\n",
       " 'ATTRIBUTES': [{'AttributeName': 'Fire Pit', 'AttributeValue': 'Y'},\n",
       "  {'AttributeName': 'Placed on Map', 'AttributeValue': '1'},\n",
       "  {'AttributeName': 'Min Num of People', 'AttributeValue': '10'},\n",
       "  {'AttributeName': 'Campfire Allowed', 'AttributeValue': 'Yes'},\n",
       "  {'AttributeName': 'Checkout Time', 'AttributeValue': '12:00 PM'},\n",
       "  {'AttributeName': 'Shade', 'AttributeValue': 'Yes'},\n",
       "  {'AttributeName': 'Max Num of People', 'AttributeValue': '15'},\n",
       "  {'AttributeName': 'Checkin Time', 'AttributeValue': '1:00 PM'},\n",
       "  {'AttributeName': 'Driveway Surface', 'AttributeValue': 'Gravel'},\n",
       "  {'AttributeName': 'Max Num of Vehicles', 'AttributeValue': '2'},\n",
       "  {'AttributeName': 'Base Number of Vehicles', 'AttributeValue': '1'},\n",
       "  {'AttributeName': 'Picnic Table', 'AttributeValue': 'Y'},\n",
       "  {'AttributeName': 'Base Number of People', 'AttributeValue': '1'},\n",
       "  {'AttributeName': 'Pets Allowed', 'AttributeValue': 'Yes'}],\n",
       " 'ENTITYMEDIA': [],\n",
       " 'PERMITTEDEQUIPMENT': []}"
      ]
     },
     "metadata": {},
     "execution_count": 10
    }
   ],
   "source": [
    "# Under the hood, each campsite is basically a dict.  If you want to deal with it like a dict, just do this:\n",
    "dict(site)"
   ]
  },
  {
   "cell_type": "code",
   "execution_count": null,
   "metadata": {},
   "outputs": [],
   "source": []
  }
 ],
 "metadata": {
  "kernelspec": {
   "display_name": "Python 3",
   "language": "python",
   "name": "python3"
  },
  "language_info": {
   "codemirror_mode": {
    "name": "ipython",
    "version": 3
   },
   "file_extension": ".py",
   "mimetype": "text/x-python",
   "name": "python",
   "nbconvert_exporter": "python",
   "pygments_lexer": "ipython3",
   "version": "3.7.9-final"
  }
 },
 "nbformat": 4,
 "nbformat_minor": 4
}